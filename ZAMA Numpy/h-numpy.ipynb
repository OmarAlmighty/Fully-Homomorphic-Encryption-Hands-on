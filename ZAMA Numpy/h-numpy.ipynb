{
 "cells": [
  {
   "cell_type": "code",
   "execution_count": 1,
   "metadata": {},
   "outputs": [],
   "source": [
    "import concrete.numpy as cnp"
   ]
  },
  {
   "cell_type": "code",
   "execution_count": 2,
   "metadata": {},
   "outputs": [],
   "source": [
    "def add(x, y):\n",
    "    return x + y\n"
   ]
  },
  {
   "cell_type": "code",
   "execution_count": 3,
   "metadata": {},
   "outputs": [
    {
     "name": "stdout",
     "output_type": "stream",
     "text": [
      "4 + 4 = 5 = 5\n",
      "4 + 4 = 0 = 0\n",
      "4 + 4 = 7 = 7\n",
      "4 + 4 = 14 = 14\n",
      "4 + 4 = 8 = 8\n",
      "4 + 4 = 29 = 29\n",
      "4 + 4 = 152 = 152\n",
      "4 + 4 = 2786 = 2786\n"
     ]
    }
   ],
   "source": [
    "compiler = cnp.Compiler(add, {\"x\": \"encrypted\", \"y\":\"clear\"})\n",
    "\n",
    "inputset = [(2, 3), (0, 0), (1, 6), (7,7), (7, 1), (13, 16), (102, 50), (454, 2332)]\n",
    "\n",
    "circuit = compiler.compile(inputset)\n",
    "\n",
    "x = 4\n",
    "y = 4\n",
    "\n",
    "for t in inputset:\n",
    "        res_clear = add(t[0], t[1])\n",
    "        res_hm = circuit.encrypt_run_decrypt(t[0], t[1])\n",
    "        print(x, \"+\", y, \"=\", res_clear, \"=\", res_hm)"
   ]
  },
  {
   "cell_type": "code",
   "execution_count": 4,
   "metadata": {},
   "outputs": [
    {
     "name": "stdout",
     "output_type": "stream",
     "text": [
      "602\n",
      "602\n"
     ]
    }
   ],
   "source": [
    "x = 102\n",
    "y = 500\n",
    "res_clear = add(x, y)\n",
    "res_hm = circuit.encrypt_run_decrypt(x, y)\n",
    "print(res_clear)\n",
    "print(res_hm)"
   ]
  },
  {
   "cell_type": "code",
   "execution_count": 5,
   "metadata": {},
   "outputs": [],
   "source": [
    "@cnp.compiler({\"x\": \"encrypted\"})\n",
    "def f(x):\n",
    "    return x ** 2\n",
    "\n",
    "inputset = range(2 ** 4)\n",
    "circuit = f.compile(inputset)"
   ]
  },
  {
   "cell_type": "code",
   "execution_count": null,
   "metadata": {},
   "outputs": [],
   "source": [
    "\"\"\"import time\n",
    "\n",
    "import numpy as np\n",
    "\n",
    "WARMUP = 3\n",
    "SAMPLES = 8\n",
    "BITWIDTHS = range(1, 15)\n",
    "CONFIGURATION = cnp.Configuration(\n",
    "    enable_unsafe_features=True,\n",
    "    use_insecure_key_cache=True,\n",
    "    insecure_key_cache_location=\".keys\",\n",
    ")\n",
    "\n",
    "timings = {}\n",
    "for n in BITWIDTHS:\n",
    "    @cnp.compiler({\"x\": \"encrypted\"})\n",
    "    def base(x):\n",
    "        return x\n",
    "\n",
    "    table = cnp.LookupTable([np.sqrt(x).round().astype(np.int64) for x in range(2 ** n)])\n",
    "\n",
    "    @cnp.compiler({\"x\": \"encrypted\"})\n",
    "    def tlu(x):\n",
    "        return table[x]\n",
    "\n",
    "    inputset = [0, 2**n - 1]\n",
    "\n",
    "    base_circuit = base.compile(inputset, CONFIGURATION)\n",
    "    tlu_circuit = tlu.compile(inputset, CONFIGURATION)\n",
    "\n",
    "    print()\n",
    "    print(f\"Generating keys for n={n}...\")\n",
    "\n",
    "    base_circuit.keygen()\n",
    "    tlu_circuit.keygen()\n",
    "\n",
    "    timings[n] = []\n",
    "    for i in range(SAMPLES + WARMUP):\n",
    "        sample = np.random.randint(0, 2 ** n)\n",
    "\n",
    "        encrypted_sample = base_circuit.encrypt(sample)\n",
    "        start = time.time()\n",
    "        encrypted_result = base_circuit.run(encrypted_sample)\n",
    "        end = time.time()\n",
    "        assert base_circuit.decrypt(encrypted_result) == sample\n",
    "\n",
    "        base_time = end - start\n",
    "\n",
    "        encrypted_sample = tlu_circuit.encrypt(sample)\n",
    "        start = time.time()\n",
    "        encrypted_result = tlu_circuit.run(encrypted_sample)\n",
    "        end = time.time()\n",
    "        assert tlu_circuit.decrypt(encrypted_result) == np.sqrt(sample).round().astype(np.int64)\n",
    "\n",
    "        tlu_time = end - start\n",
    "\n",
    "        if i >= WARMUP:\n",
    "            timings[n].append(tlu_time - base_time)\n",
    "            print(f\"Sample #{i - WARMUP + 1} took {timings[n][-1] * 1000:.3f}ms\")\n",
    "\n",
    "print()\n",
    "for n, times in timings.items():\n",
    "    print(f\"{n}-bits -> {np.mean(times) * 1000:.3f}ms\")\"\"\""
   ]
  },
  {
   "cell_type": "code",
   "execution_count": 7,
   "metadata": {},
   "outputs": [
    {
     "data": {
      "text/plain": [
       "'%0 = x                    # EncryptedScalar<uint4>        ∈ [0, 15]\\n%1 = 2                    # ClearScalar<uint2>            ∈ [2, 2]\\n%2 = power(%0, %1)        # EncryptedScalar<uint8>        ∈ [0, 225]\\nreturn %2'"
      ]
     },
     "execution_count": 7,
     "metadata": {},
     "output_type": "execute_result"
    }
   ],
   "source": [
    "str(circuit)"
   ]
  },
  {
   "cell_type": "code",
   "execution_count": 26,
   "metadata": {},
   "outputs": [
    {
     "name": "stdout",
     "output_type": "stream",
     "text": [
      " %0 = x                            # EncryptedScalar<uint4>        ∈ [0, 9]\n",
      " %1 = 2                            # ClearScalar<uint2>            ∈ [2, 2]            @ abc\n",
      " %2 = multiply(%0, %1)             # EncryptedScalar<uint5>        ∈ [0, 18]           @ abc\n",
      " %3 = 7                            # ClearScalar<uint3>            ∈ [7, 7]            @ abc.foo\n",
      " %4 = add(%2, %3)                  # EncryptedScalar<uint5>        ∈ [7, 25]           @ abc.foo\n",
      " %5 = subgraph(%4)                 # EncryptedScalar<uint3>        ∈ [2, 5]            @ abc\n",
      " %6 = 3                            # ClearScalar<uint2>            ∈ [3, 3]\n",
      " %7 = add(%5, %6)                  # EncryptedScalar<uint4>        ∈ [5, 8]\n",
      " %8 = 120                          # ClearScalar<uint7>            ∈ [120, 120]        @ function g\n",
      " %9 = subtract(%8, %7)             # EncryptedScalar<uint7>        ∈ [112, 115]        @ function g\n",
      "%10 = 4                            # ClearScalar<uint3>            ∈ [4, 4]            @ function g\n",
      "%11 = floor_divide(%9, %10)        # EncryptedScalar<uint5>        ∈ [28, 28]          @ function g\n",
      "%12 = 2                            # ClearScalar<uint2>            ∈ [2, 2]\n",
      "%13 = multiply(%11, %12)           # EncryptedScalar<uint6>        ∈ [56, 56]\n",
      "return %13\n",
      "\n",
      "Subgraphs:\n",
      "\n",
      "    %5 = subgraph(%4):\n",
      "\n",
      "        %0 = input                         # EncryptedScalar<uint2>          @ abc.foo\n",
      "        %1 = sqrt(%0)                      # EncryptedScalar<float64>        @ abc\n",
      "        %2 = astype(%1, dtype=int_)        # EncryptedScalar<uint1>          @ abc\n",
      "        return %2\n"
     ]
    }
   ],
   "source": [
    "import numpy as np\n",
    "\n",
    "\n",
    "#@cnp.compiler({\"z\":\"encrypted\"})\n",
    "def g(z):\n",
    "    with cnp.tag(\"function g\"):\n",
    "        a = 120 - z\n",
    "        b = a // 4\n",
    "    return b\n",
    "\n",
    "@cnp.compiler({\"x\":\"encrypted\"})\n",
    "def f(x):\n",
    "    with cnp.tag(\"abc\"):\n",
    "        x = x * 2\n",
    "        with cnp.tag(\"foo\"):\n",
    "            y = x + 7\n",
    "        z = np.sqrt(y).astype(np.int64)\n",
    "    return g(z+3) * 2\n",
    "\n",
    "\n",
    "inputset = range(10)\n",
    "\n",
    "circuit = f.compile(inputset)\n",
    "print(circuit)"
   ]
  },
  {
   "cell_type": "code",
   "execution_count": 31,
   "metadata": {},
   "outputs": [
    {
     "name": "stdout",
     "output_type": "stream",
     "text": [
      "[[0 6]\n",
      " [1 0]\n",
      " [3 0]]\n"
     ]
    }
   ],
   "source": [
    "def complex_univariate_fn(x):\n",
    "    def per_element(ele):\n",
    "        res = 0\n",
    "        for i in range(ele):\n",
    "            res += i\n",
    "        return res\n",
    "    return np.vectorize(per_element)(x)\n",
    "\n",
    "\n",
    "@cnp.compiler({\"x\":\"encrypted\"})\n",
    "def f(x):\n",
    "    return cnp.univariate(complex_univariate_fn)(x)\n",
    "\n",
    "sample = np.array([[0, 4], [2, 1], [3, 0]])\n",
    "res_clr = complex_univariate_fn(sample)\n",
    "print(res_clr)"
   ]
  },
  {
   "cell_type": "code",
   "execution_count": 32,
   "metadata": {},
   "outputs": [
    {
     "name": "stdout",
     "output_type": "stream",
     "text": [
      "[[0 6]\n",
      " [1 0]\n",
      " [3 0]]\n"
     ]
    }
   ],
   "source": [
    "inputset = [np.random.randint(0, 5, size=(3, 2)) for _ in range(10)]\n",
    "circuit = f.compile(inputset)\n",
    "res_hm = circuit.encrypt_run_decrypt(sample)\n",
    "print(res_hm)"
   ]
  },
  {
   "cell_type": "code",
   "execution_count": 34,
   "metadata": {},
   "outputs": [],
   "source": [
    "table = cnp.LookupTable([2, -1, 3, 0])\n",
    "\n",
    "@cnp.compiler({\"x\": \"encrypted\"})\n",
    "def f(x):\n",
    "    return table[x]\n",
    "\n",
    "inputset = range(4)\n",
    "circuit = f.compile(inputset)\n",
    "\n",
    "assert circuit.encrypt_run_decrypt(0) == table[0] == 2\n",
    "assert circuit.encrypt_run_decrypt(1) == table[1] == -1\n",
    "assert circuit.encrypt_run_decrypt(2) == table[2] == 3\n",
    "assert circuit.encrypt_run_decrypt(3) == table[3] == 0"
   ]
  },
  {
   "cell_type": "code",
   "execution_count": 37,
   "metadata": {},
   "outputs": [
    {
     "data": {
      "image/png": "[encoded data removed]",
      "text/plain": [
       "<Figure size 640x480 with 1 Axes>"
      ]
     },
     "metadata": {},
     "output_type": "display_data"
    }
   ],
   "source": [
    "import matplotlib.pyplot as plt\n",
    "%matplotlib inline\n",
    "\n",
    "def relu(x):\n",
    "    return x if x >= 0 else 0\n",
    "\n",
    "xs = range(-100_000, 100_000)\n",
    "ys = [relu(x) for x in xs]\n",
    "\n",
    "plt.plot(xs, ys)\n",
    "plt.show()"
   ]
  },
  {
   "cell_type": "code",
   "execution_count": 53,
   "metadata": {},
   "outputs": [
    {
     "name": "stdout",
     "output_type": "stream",
     "text": [
      "%0 = x                       # EncryptedScalar<uint17>        ∈ [100000, 100999]\n",
      "%1 = 100000                  # ClearScalar<uint17>            ∈ [100000, 100000]\n",
      "%2 = multiply(%0, %1)        # EncryptedScalar<uint34>        ∈ [10000000000, 10099900000]\n",
      "%3 = subgraph(%2)            # EncryptedScalar<uint17>        ∈ [100000, 100498]\n",
      "return %3\n",
      "\n",
      "Subgraphs:\n",
      "\n",
      "    %3 = subgraph(%2):\n",
      "\n",
      "        %0 = input                         # EncryptedScalar<uint1>\n",
      "        %1 = sqrt(%0)                      # EncryptedScalar<float64>\n",
      "        %2 = around(%1, decimals=0)        # EncryptedScalar<float64>\n",
      "        %3 = astype(%2, dtype=int_)        # EncryptedScalar<uint1>\n",
      "        return %3\n"
     ]
    },
    {
     "ename": "RuntimeError",
     "evalue": "Virtual circuits cannot use `encrypt` method",
     "output_type": "error",
     "traceback": [
      "\u001b[0;31m---------------------------------------------------------------------------\u001b[0m",
      "\u001b[0;31mRuntimeError\u001b[0m                              Traceback (most recent call last)",
      "Cell \u001b[0;32mIn[53], line 9\u001b[0m\n\u001b[1;32m      6\u001b[0m circuit \u001b[39m=\u001b[39m f\u001b[39m.\u001b[39mcompile(inputset, enable_unsafe_features\u001b[39m=\u001b[39m\u001b[39mTrue\u001b[39;00m, virtual\u001b[39m=\u001b[39m\u001b[39mTrue\u001b[39;00m)\n\u001b[1;32m      8\u001b[0m \u001b[39mprint\u001b[39m(circuit)\n\u001b[0;32m----> 9\u001b[0m \u001b[39mprint\u001b[39m(circuit\u001b[39m.\u001b[39;49mencrypt_run_decrypt(\u001b[39m100_500\u001b[39;49m), \u001b[39m\"\u001b[39m\u001b[39m~=\u001b[39m\u001b[39m\"\u001b[39m, np\u001b[39m.\u001b[39msqrt(\u001b[39m100_500\u001b[39m \u001b[39m*\u001b[39m \u001b[39m100_000\u001b[39m))\n",
      "File \u001b[0;32m/usr/local/lib/python3.10/dist-packages/concrete/numpy/compilation/circuit.py:204\u001b[0m, in \u001b[0;36mCircuit.encrypt_run_decrypt\u001b[0;34m(self, *args)\u001b[0m\n\u001b[1;32m    191\u001b[0m \u001b[39mdef\u001b[39;00m \u001b[39mencrypt_run_decrypt\u001b[39m(\u001b[39mself\u001b[39m, \u001b[39m*\u001b[39margs: Any) \u001b[39m-\u001b[39m\u001b[39m>\u001b[39m Any:\n\u001b[1;32m    192\u001b[0m \u001b[39m    \u001b[39m\u001b[39m\"\"\"\u001b[39;00m\n\u001b[1;32m    193\u001b[0m \u001b[39m    Encrypt inputs, run the circuit, and decrypt the outputs in one go.\u001b[39;00m\n\u001b[1;32m    194\u001b[0m \n\u001b[0;32m   (...)\u001b[0m\n\u001b[1;32m    201\u001b[0m \u001b[39m            clear result of homomorphic evaluation\u001b[39;00m\n\u001b[1;32m    202\u001b[0m \u001b[39m    \"\"\"\u001b[39;00m\n\u001b[0;32m--> 204\u001b[0m     \u001b[39mreturn\u001b[39;00m \u001b[39mself\u001b[39m\u001b[39m.\u001b[39mdecrypt(\u001b[39mself\u001b[39m\u001b[39m.\u001b[39mrun(\u001b[39mself\u001b[39;49m\u001b[39m.\u001b[39;49mencrypt(\u001b[39m*\u001b[39;49margs)))\n",
      "File \u001b[0;32m/usr/local/lib/python3.10/dist-packages/concrete/numpy/compilation/circuit.py:145\u001b[0m, in \u001b[0;36mCircuit.encrypt\u001b[0;34m(self, *args)\u001b[0m\n\u001b[1;32m    143\u001b[0m \u001b[39mif\u001b[39;00m \u001b[39mself\u001b[39m\u001b[39m.\u001b[39mconfiguration\u001b[39m.\u001b[39mvirtual:\n\u001b[1;32m    144\u001b[0m     message \u001b[39m=\u001b[39m \u001b[39m\"\u001b[39m\u001b[39mVirtual circuits cannot use `encrypt` method\u001b[39m\u001b[39m\"\u001b[39m\n\u001b[0;32m--> 145\u001b[0m     \u001b[39mraise\u001b[39;00m \u001b[39mRuntimeError\u001b[39;00m(message)\n\u001b[1;32m    147\u001b[0m \u001b[39mreturn\u001b[39;00m \u001b[39mself\u001b[39m\u001b[39m.\u001b[39mclient\u001b[39m.\u001b[39mencrypt(\u001b[39m*\u001b[39margs)\n",
      "\u001b[0;31mRuntimeError\u001b[0m: Virtual circuits cannot use `encrypt` method"
     ]
    }
   ],
   "source": [
    "@cnp.compiler({\"x\": \"encrypted\"})\n",
    "def f(x):\n",
    "    return np.sqrt(x * 100_000).round().astype(np.int64)\n",
    "\n",
    "inputset = range(100_000, 101_000)\n",
    "circuit = f.compile(inputset, enable_unsafe_features=True, virtual=True)\n",
    "\n",
    "print(circuit)\n",
    "print(circuit.encrypt_run_decrypt(100_500), \"~=\", np.sqrt(100_500 * 100_000))"
   ]
  },
  {
   "cell_type": "code",
   "execution_count": null,
   "metadata": {},
   "outputs": [],
   "source": []
  }
 ],
 "metadata": {
  "kernelspec": {
   "display_name": "Python 3 (ipykernel)",
   "language": "python",
   "name": "python3"
  },
  "language_info": {
   "codemirror_mode": {
    "name": "ipython",
    "version": 3
   },
   "file_extension": ".py",
   "mimetype": "text/x-python",
   "name": "python",
   "nbconvert_exporter": "python",
   "pygments_lexer": "ipython3",
   "version": "3.10.6"
  },
  "orig_nbformat": 4
 },
 "nbformat": 4,
 "nbformat_minor": 2
}
