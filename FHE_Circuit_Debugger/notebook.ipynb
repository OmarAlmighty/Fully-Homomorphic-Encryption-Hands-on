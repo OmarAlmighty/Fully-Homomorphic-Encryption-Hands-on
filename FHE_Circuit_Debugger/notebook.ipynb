{
 "cells": [
  {
   "metadata": {
    "ExecuteTime": {
     "end_time": "2025-09-01T04:01:55.835071Z",
     "start_time": "2025-09-01T04:01:55.832536Z"
    }
   },
   "cell_type": "code",
   "source": "import copy",
   "id": "f78ff1023a559e58",
   "outputs": [],
   "execution_count": 1
  },
  {
   "metadata": {
    "ExecuteTime": {
     "end_time": "2025-09-01T04:31:46.357134Z",
     "start_time": "2025-09-01T04:31:46.352443Z"
    }
   },
   "cell_type": "code",
   "source": [
    "def e_and_bit(a, b):\n",
    "    return (a & b)\n",
    "\n",
    "def e_or_bit(a, b):\n",
    "    return (a | b)\n",
    "\n",
    "def e_xor_bit(a, b):\n",
    "    return a ^ b\n",
    "\n",
    "def e_nand_bit(a, b):\n",
    "    return (1- (a & b))\n",
    "\n",
    "def e_nor_bit(a, b):\n",
    "    return (1- (a | b))\n",
    "\n",
    "def e_xnor_bit(a, b):\n",
    "    return (1- (a ^ b))\n",
    "\n",
    "def e_not_bit(a):\n",
    "    return (1- a)  # Ignores b\n",
    "\n",
    "def e_mux_bit(sel, a, b):\n",
    "    return (a & sel) | (b & (~sel & 1))\n",
    "\n",
    "def e_and(a, b, result):\n",
    "    result[:] = [x & y for x, y in zip(a, b)]\n",
    "\n",
    "def e_or(a, b, result):\n",
    "    result[:] = [x | y for x, y in zip(a, b)]\n",
    "\n",
    "def e_xor(a, b, result):\n",
    "    result[:] = [x ^ y for x, y in zip(a, b)]\n",
    "\n",
    "def e_nand(a, b, result):\n",
    "    result[:] = [~(x & y) & 1 for x, y in zip(a, b)]\n",
    "\n",
    "def e_nor(a, b, result):\n",
    "    result[:] = [~(x | y) & 1 for x, y in zip(a, b)]\n",
    "\n",
    "def e_xnor(a, b, result):\n",
    "    result[:] = [~(x ^ y) & 1 for x, y in zip(a, b)]\n",
    "\n",
    "def e_not(a, result):\n",
    "    result[:] = [~x & 1 for x in a]  # Ignores b\n",
    "\n",
    "def e_mux(sel, a, b, result):\n",
    "    result[:] = [(a[i] & (sel)) | (b[i] & (~sel & 1)) for i in range(len(a))]\n",
    "\n",
    "def e_and_range(a, b, result, low, high):\n",
    "    result[low:high] = [x & y for x, y in zip(a[low:high], b[low:high])]\n",
    "\n",
    "def e_or_range(a, b, result, low, high):\n",
    "    result[low:high] = [x | y for x, y in zip(a[low:high], b[low:high])]\n",
    "\n",
    "def e_xor_range(a, b, result, low, high):\n",
    "    result[low:high] = [x ^ y for x, y in zip(a[low:high], b[low:high])]\n",
    "\n",
    "def e_nand_range(a, b, result, low, high):\n",
    "    result[low:high] = [~(x & y) & 1 for x, y in zip(a[low:high], b[low:high])]\n",
    "\n",
    "def e_nor_range(a, b, result, low, high):\n",
    "    result[low:high] = [~(x | y) & 1 for x, y in zip(a[low:high], b[low:high])]\n",
    "\n",
    "def e_xnor_range(a, b, result, low, high):\n",
    "    result[low:high] = [~(x ^ y) & 1 for x, y in zip(a[low:high], b[low:high])]\n",
    "\n",
    "def e_not_range(a, result, low, high):\n",
    "    result[low:high] = [~x & 1 for x in a[low:high]]  # Ignores b\n",
    "\n",
    "def e_shl_p(a, LSB):\n",
    "    result = [LSB]\n",
    "    for i in range(1, len(a)):\n",
    "        result.append(a[i-1])\n",
    "    return result\n"
   ],
   "id": "84b5a1635d85eb52",
   "outputs": [],
   "execution_count": 92
  },
  {
   "metadata": {
    "ExecuteTime": {
     "end_time": "2025-09-01T04:17:15.386665Z",
     "start_time": "2025-09-01T04:17:15.384320Z"
    }
   },
   "cell_type": "code",
   "source": [
    "def int_to_bits(signed_int, bit_length=32):\n",
    "    \"\"\"\n",
    "    Convert a signed integer to an array of bits with LSB (sign bit) at index 0.\n",
    "    Uses two's complement representation.\n",
    "    \"\"\"\n",
    "    # Handle negative numbers using two's complement\n",
    "    if signed_int < 0:\n",
    "        signed_int = (1 << bit_length) + signed_int\n",
    "    # Convert to binary and remove '0b' prefix\n",
    "    binary = bin(signed_int)[2:].zfill(bit_length)\n",
    "    # Return bits as list with LSB (sign bit) at index 0\n",
    "    return [int(bit) for bit in binary[::-1]]\n",
    "\n",
    "def bits_to_int(bits):\n",
    "    \"\"\"\n",
    "    Convert an array of bits with LSB (sign bit) at index 0 back to a signed integer.\n",
    "    Assumes two's complement representation.\n",
    "    \"\"\"\n",
    "    # Reverse bits to have MSB at highest index\n",
    "    binary = ''.join(str(bit) for bit in bits[::-1])\n",
    "    # Convert binary string to integer\n",
    "    result = int(binary, 2)\n",
    "    # Handle negative numbers (if sign bit is 1)\n",
    "    bit_length = len(bits)\n",
    "    if bits[bit_length-1] == 1:  # Sign bit is 1\n",
    "        result -= (1 << bit_length)\n",
    "    return result"
   ],
   "id": "7ad0127258fac3e0",
   "outputs": [],
   "execution_count": 68
  },
  {
   "metadata": {
    "ExecuteTime": {
     "end_time": "2025-09-01T04:17:15.619364Z",
     "start_time": "2025-09-01T04:17:15.617321Z"
    }
   },
   "cell_type": "code",
   "source": [
    "def add_supplement(a, b, size):\n",
    "    \"\"\"\n",
    "    Adds two bit lists a and b (using only the first 'size' bits of a if longer),\n",
    "    returns the result list of length 'size' (mod 2^size, discarding overflow).\n",
    "    \"\"\"\n",
    "    if size == 0:\n",
    "        return []\n",
    "    carry = [0] * (size + 1)\n",
    "    temp = [0] * size\n",
    "    for i in range(size):\n",
    "        temp[i] = a[i] ^ b[i]\n",
    "    for i in range(size):\n",
    "        gen = a[i] & b[i]\n",
    "        carry[i + 1] = gen | (temp[i] & carry[i])\n",
    "    result = [0] * size\n",
    "    for i in range(size):\n",
    "        result[i] = temp[i] ^ carry[i]\n",
    "    return result"
   ],
   "id": "fbc121e30a2defb3",
   "outputs": [],
   "execution_count": 69
  },
  {
   "metadata": {
    "ExecuteTime": {
     "end_time": "2025-09-01T04:17:15.807748Z",
     "start_time": "2025-09-01T04:17:15.805817Z"
    }
   },
   "cell_type": "code",
   "source": [
    "\n",
    "def multiplier(a, b, result):\n",
    "    \"\"\"\n",
    "    Computes the bit-wise multiplication of a and b (lists of bits, LSB at index 0),\n",
    "    stores the low len(a) bits of the product in result (handles both unsigned and signed via modular arithmetic).\n",
    "    Assumes len(a) == len(b) == len(result).\n",
    "    \"\"\"\n",
    "    size = len(a)\n",
    "    tmp_array = [0] * size\n",
    "    sum_ = [0] * size\n",
    "    temp_sum = [0] * size\n",
    "    for i in range(size):\n",
    "        # Reset tmp_array low bits (higher bits unused)\n",
    "        for j in range(size - i):\n",
    "            tmp_array[j] = a[i] & b[j]\n",
    "        temp_sum[i:] = add_supplement(tmp_array, sum_[i:], size - i)\n",
    "        sum_[:] = temp_sum[:]\n",
    "    result[:] = sum_[:]"
   ],
   "id": "bb1dfb48946291a4",
   "outputs": [],
   "execution_count": 70
  },
  {
   "metadata": {
    "ExecuteTime": {
     "end_time": "2025-09-01T04:17:15.963547Z",
     "start_time": "2025-09-01T04:17:15.961542Z"
    }
   },
   "cell_type": "code",
   "source": [
    "a = int_to_bits(10,  bit_length=8)\n",
    "b = int_to_bits(-10, bit_length=8)\n",
    "print(a[::-1])\n",
    "print(b[::-1])\n",
    "res = [0] * 8\n",
    "multiplier(a, b, res)\n",
    "print(res[::-1])\n",
    "print(bits_to_int(res))"
   ],
   "id": "103ca428aa8abfc5",
   "outputs": [
    {
     "name": "stdout",
     "output_type": "stream",
     "text": [
      "[0, 0, 0, 0, 1, 0, 1, 0]\n",
      "[1, 1, 1, 1, 0, 1, 1, 0]\n",
      "[1, 0, 0, 1, 1, 1, 0, 0]\n",
      "-100\n"
     ]
    }
   ],
   "execution_count": 71
  },
  {
   "metadata": {
    "ExecuteTime": {
     "end_time": "2025-09-01T04:17:16.228369Z",
     "start_time": "2025-09-01T04:17:16.226680Z"
    }
   },
   "cell_type": "code",
   "source": [
    "# -20 -41\n",
    "# -14 -17\n",
    "# -44 -29"
   ],
   "id": "e1e030cc9c2247c4",
   "outputs": [],
   "execution_count": 72
  },
  {
   "metadata": {
    "ExecuteTime": {
     "end_time": "2025-09-01T04:17:16.595371Z",
     "start_time": "2025-09-01T04:17:16.593502Z"
    }
   },
   "cell_type": "code",
   "source": [
    "def adder_c(a, b, result):\n",
    "    size = len(a)\n",
    "    carry = [0] * (size + 1)\n",
    "    temp = [0] * size\n",
    "\n",
    "    e_xor(a, b, temp)\n",
    "    for i in range(size):\n",
    "        result[i] = e_xor_bit(carry[i], temp[i])\n",
    "        if i != size - 1:\n",
    "            carry[i+1] = e_mux_bit(temp[i], carry[i], a[i])"
   ],
   "id": "11c0c51d118801ba",
   "outputs": [],
   "execution_count": 73
  },
  {
   "metadata": {
    "ExecuteTime": {
     "end_time": "2025-09-01T04:17:16.747962Z",
     "start_time": "2025-09-01T04:17:16.745827Z"
    }
   },
   "cell_type": "code",
   "source": [
    "def adder_rs(a, b, result):\n",
    "    size = len(a)\n",
    "    carry = [0] * (size + 1)\n",
    "    temp = [0] * size\n",
    "    a_and_b = [0] * size\n",
    "    \n",
    "    e_xor(a, b, temp)\n",
    "    e_and(a, b, a_and_b)\n",
    "    \n",
    "    for i in range(size):\n",
    "        result[i] = e_xor_bit(carry[i], temp[i])\n",
    "        \n",
    "        if i != size - 1:\n",
    "            a_and_carry = e_and_bit(a[i], b[i])\n",
    "            b_and_carry = e_and_bit(b[i], carry[i])\n",
    "            temp_carry = e_or_bit(a_and_b[i], a_and_carry)\n",
    "            carry[i+1] = e_or_bit(temp_carry, b_and_carry)\n",
    "            "
   ],
   "id": "b3cb623f46d6fb14",
   "outputs": [],
   "execution_count": 74
  },
  {
   "metadata": {
    "ExecuteTime": {
     "end_time": "2025-09-01T04:17:16.927403Z",
     "start_time": "2025-09-01T04:17:16.925395Z"
    }
   },
   "cell_type": "code",
   "source": [
    "a = int_to_bits(-44,  bit_length=8)\n",
    "b = int_to_bits(-29, bit_length=8)\n",
    "print(a[::-1])\n",
    "print(b[::-1])\n",
    "res = [0] * 8\n",
    "adder_c(a, b, res)\n",
    "print(res[::-1])\n",
    "print(bits_to_int(res))"
   ],
   "id": "c5c16eb70e812c51",
   "outputs": [
    {
     "name": "stdout",
     "output_type": "stream",
     "text": [
      "[1, 1, 0, 1, 0, 1, 0, 0]\n",
      "[1, 1, 1, 0, 0, 0, 1, 1]\n",
      "[1, 0, 1, 1, 0, 1, 1, 1]\n",
      "-73\n"
     ]
    }
   ],
   "execution_count": 75
  },
  {
   "metadata": {
    "ExecuteTime": {
     "end_time": "2025-09-01T04:17:17.126398Z",
     "start_time": "2025-09-01T04:17:17.124588Z"
    }
   },
   "cell_type": "code",
   "source": [
    "a = int_to_bits(44,  bit_length=8)\n",
    "b = int_to_bits(-29, bit_length=8)\n",
    "print(a[::-1])\n",
    "print(b[::-1])\n",
    "res = [0] * 8\n",
    "adder_rs(a, b, res)\n",
    "print(res[::-1])\n",
    "print(bits_to_int(res))"
   ],
   "id": "c62bb2dc0827865",
   "outputs": [
    {
     "name": "stdout",
     "output_type": "stream",
     "text": [
      "[0, 0, 1, 0, 1, 1, 0, 0]\n",
      "[1, 1, 1, 0, 0, 0, 1, 1]\n",
      "[0, 0, 0, 0, 1, 1, 1, 1]\n",
      "15\n"
     ]
    }
   ],
   "execution_count": 76
  },
  {
   "metadata": {
    "ExecuteTime": {
     "end_time": "2025-09-01T04:17:17.323203Z",
     "start_time": "2025-09-01T04:17:17.320891Z"
    }
   },
   "cell_type": "code",
   "source": [
    "def subtractor(a, b, result):\n",
    "    size = len(a)\n",
    "    borrow = [0] * size\n",
    "    temp_0 = [0] * size\n",
    "    temp_1 = [0] * size\n",
    "    temp_2 = [0] * size\n",
    "    \n",
    "    result[0] = e_xor_bit(a[0], b[0])\n",
    "    temp_0[0] = e_not_bit(a[0])\n",
    "    borrow[0] = e_and_bit(temp_0[0], b[0])\n",
    "    \n",
    "    e_xor_range(a, b, temp_0, 1, size)\n",
    "    e_not_range(a, temp_1, 1, size)\n",
    "    \n",
    "    for i in range(1, size):\n",
    "        result[i] = e_xor_bit(temp_0[i], borrow[i-1])\n",
    "        \n",
    "        if i != size - 1:\n",
    "            temp_2[i] = e_and_bit(temp_1[i], b[i])\n",
    "            temp_0[i] = e_not_bit(temp_0[i])\n",
    "            temp_1[i] = e_and_bit(borrow[i-1], temp_0[i])\n",
    "            borrow[i] = e_or_bit(temp_2[i], temp_1[i])"
   ],
   "id": "ca5824f44e421d26",
   "outputs": [],
   "execution_count": 77
  },
  {
   "metadata": {
    "ExecuteTime": {
     "end_time": "2025-09-01T04:17:18.113005Z",
     "start_time": "2025-09-01T04:17:18.110927Z"
    }
   },
   "cell_type": "code",
   "source": [
    "a = int_to_bits(44,  bit_length=8)\n",
    "b = int_to_bits(-29, bit_length=8)\n",
    "print(a[::-1])\n",
    "print(b[::-1])\n",
    "res = [0] * 8\n",
    "subtractor(a, b, res)\n",
    "print(res[::-1])\n",
    "print(bits_to_int(res))"
   ],
   "id": "4c844473dc858a72",
   "outputs": [
    {
     "name": "stdout",
     "output_type": "stream",
     "text": [
      "[0, 0, 1, 0, 1, 1, 0, 0]\n",
      "[1, 1, 1, 0, 0, 0, 1, 1]\n",
      "[0, 1, 0, 0, 1, 0, 0, 1]\n",
      "73\n"
     ]
    }
   ],
   "execution_count": 78
  },
  {
   "metadata": {
    "ExecuteTime": {
     "end_time": "2025-09-01T04:33:22.080464Z",
     "start_time": "2025-09-01T04:33:22.078326Z"
    }
   },
   "cell_type": "code",
   "source": [
    "def divider(a, b, result):\n",
    "    size = len(a)\n",
    "    Q = a\n",
    "    A = [0] * size\n",
    "    M = b\n",
    "    MSB = 0\n",
    "    zero = 0\n",
    "    A_msb = 0\n",
    "    not_A_msb = 0\n",
    "    A_tmp = [0] * size\n",
    "    Q_tmp = [0] * size\n",
    "    A_m = [0] * size\n",
    "    \n",
    "    for _ in range(size):\n",
    "        Q_tmp = e_shl_p(Q, zero)\n",
    "        MSB = Q[size-1]\n",
    "        Q = Q_tmp\n",
    "        print(\"\\t\\tQ1:\", Q)\n",
    "        A_tmp = e_shl_p(A, MSB)\n",
    "        subtractor(A_tmp, M, A)\n",
    "        A_msb = A[size-1]\n",
    "        not_A_msb = e_not_bit(A_msb)\n",
    "        Q[0] = not_A_msb\n",
    "        print(\"\\t\\tQ2:\", Q)\n",
    "        adder_rs(A, M, A_m)\n",
    "        e_mux(A_msb, A_m, A, A_tmp)\n",
    "        A = A_tmp\n",
    "        \n",
    "    for i in range(size):\n",
    "        result[i] = Q[i]"
   ],
   "id": "da40382158b85f1a",
   "outputs": [],
   "execution_count": 95
  },
  {
   "metadata": {
    "ExecuteTime": {
     "end_time": "2025-09-01T04:33:22.381127Z",
     "start_time": "2025-09-01T04:33:22.378634Z"
    }
   },
   "cell_type": "code",
   "source": [
    "a = int_to_bits(8,  bit_length=8)\n",
    "b = int_to_bits(2, bit_length=8)\n",
    "print(a[::-1])\n",
    "print(b[::-1])\n",
    "res = [0] * 8\n",
    "divider(a, b, res)\n",
    "print(res[::-1])\n",
    "print(bits_to_int(res))"
   ],
   "id": "f92a5e8ca72bce9",
   "outputs": [
    {
     "name": "stdout",
     "output_type": "stream",
     "text": [
      "[0, 0, 0, 0, 1, 0, 0, 0]\n",
      "[0, 0, 0, 0, 0, 0, 1, 0]\n",
      "\t\tQ1: [0, 0, 0, 1, 0, 0, 0, 0]\n",
      "\t\tQ2: [0, 0, 0, 1, 0, 0, 0, 0]\n",
      "\t\tQ1: [0, 0, 1, 0, 0, 0, 0, 0]\n",
      "\t\tQ2: [0, 0, 1, 0, 0, 0, 0, 0]\n",
      "\t\tQ1: [0, 1, 0, 0, 0, 0, 0, 0]\n",
      "\t\tQ2: [0, 1, 0, 0, 0, 0, 0, 0]\n",
      "\t\tQ1: [1, 0, 0, 0, 0, 0, 0, 0]\n",
      "\t\tQ2: [1, 0, 0, 0, 0, 0, 0, 0]\n",
      "\t\tQ1: [0, 0, 0, 0, 0, 0, 0, 0]\n",
      "\t\tQ2: [0, 0, 0, 0, 0, 0, 0, 1]\n",
      "\t\tQ1: [0, 0, 0, 0, 0, 0, 1, 0]\n",
      "\t\tQ2: [0, 0, 0, 0, 0, 0, 1, 1]\n",
      "\t\tQ1: [0, 0, 0, 0, 0, 1, 1, 0]\n",
      "\t\tQ2: [0, 0, 0, 0, 0, 1, 1, 1]\n",
      "\t\tQ1: [0, 0, 0, 0, 1, 1, 1, 0]\n",
      "\t\tQ2: [0, 0, 0, 0, 1, 1, 1, 1]\n",
      "[0, 0, 0, 0, 1, 1, 1, 1]\n",
      "15\n"
     ]
    }
   ],
   "execution_count": 96
  },
  {
   "metadata": {
    "ExecuteTime": {
     "end_time": "2025-09-01T04:01:56.001545Z",
     "start_time": "2025-09-01T04:01:56.000368Z"
    }
   },
   "cell_type": "code",
   "source": "",
   "id": "ffe64471314b5cc7",
   "outputs": [],
   "execution_count": 15
  }
 ],
 "metadata": {
  "kernelspec": {
   "display_name": "Python 3",
   "language": "python",
   "name": "python3"
  },
  "language_info": {
   "codemirror_mode": {
    "name": "ipython",
    "version": 2
   },
   "file_extension": ".py",
   "mimetype": "text/x-python",
   "name": "python",
   "nbconvert_exporter": "python",
   "pygments_lexer": "ipython2",
   "version": "2.7.6"
  }
 },
 "nbformat": 4,
 "nbformat_minor": 5
}
