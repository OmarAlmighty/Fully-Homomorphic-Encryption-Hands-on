{
 "cells": [
  {
   "metadata": {},
   "cell_type": "markdown",
   "source": [
    "# This is a sample Jupyter Notebook\n",
    "\n",
    "Below is an example of a code cell. \n",
    "Put your cursor into the cell and press Shift+Enter to execute it and select the next one, or click 'Run Cell' button.\n",
    "\n",
    "Press Double Shift to search everywhere for classes, files, tool windows, actions, and settings.\n",
    "\n",
    "To learn more about Jupyter Notebooks in PyCharm, see [help](https://www.jetbrains.com/help/pycharm/ipython-notebook-support.html).\n",
    "For an overview of PyCharm, go to Help -> Learn IDE features or refer to [our documentation](https://www.jetbrains.com/help/pycharm/getting-started.html)."
   ],
   "id": "fae9867006ea718f"
  },
  {
   "metadata": {
    "ExecuteTime": {
     "end_time": "2025-08-29T21:00:31.375994Z",
     "start_time": "2025-08-29T21:00:31.373244Z"
    }
   },
   "cell_type": "code",
   "source": "import copy",
   "id": "f78ff1023a559e58",
   "outputs": [],
   "execution_count": 8
  },
  {
   "metadata": {
    "ExecuteTime": {
     "end_time": "2025-08-29T21:07:46.825717Z",
     "start_time": "2025-08-29T21:07:46.817728Z"
    }
   },
   "cell_type": "code",
   "source": [
    "def e_and_bit(a, b):\n",
    "    return (a & b)\n",
    "\n",
    "def e_or_bit(a, b):\n",
    "    return (a | b)\n",
    "\n",
    "def e_xor_bit(a, b):\n",
    "    return bool(a) ^ bool(b)\n",
    "\n",
    "def e_nand_bit(a, b):\n",
    "    return (1- (a & b))\n",
    "\n",
    "def e_nor_bit(a, b):\n",
    "    return (1- (a | b))\n",
    "\n",
    "def e_xnor_bit(a, b):\n",
    "    return (1- (a ^ b))\n",
    "\n",
    "def e_not_bit(a):\n",
    "    return (1- a)  # Ignores b\n",
    "\n",
    "def e_mux_bit(sel, a, b):\n",
    "    return (a & (~sel & 1)) | (b & sel)\n",
    "\n",
    "def e_and(a, b, result):\n",
    "    result[:] = [x & y for x, y in zip(a, b)]\n",
    "\n",
    "def e_or(a, b, result):\n",
    "    result[:] = [x | y for x, y in zip(a, b)]\n",
    "\n",
    "def e_xor(a, b, result):\n",
    "    result[:] = [x ^ y for x, y in zip(a, b)]\n",
    "\n",
    "def e_nand(a, b, result):\n",
    "    result[:] = [~(x & y) & 1 for x, y in zip(a, b)]\n",
    "\n",
    "def e_nor(a, b, result):\n",
    "    result[:] = [~(x | y) & 1 for x, y in zip(a, b)]\n",
    "\n",
    "def e_xnor(a, b, result):\n",
    "    result[:] = [~(x ^ y) & 1 for x, y in zip(a, b)]\n",
    "\n",
    "def e_not(a, result):\n",
    "    result[:] = [~x & 1 for x in a]  # Ignores b\n",
    "\n",
    "def e_mux(sel, a, b, result):\n",
    "    result[:] = [(a[i] & (~sel & 1)) | (b[i] & sel) for i in range(len(a))]\n",
    "\n",
    "def e_and_range(a, b, result, low, high):\n",
    "    result[low:high] = [x & y for x, y in zip(a[low:high], b[low:high])]\n",
    "\n",
    "def e_or_range(a, b, result, low, high):\n",
    "    result[low:high] = [x | y for x, y in zip(a[low:high], b[low:high])]\n",
    "\n",
    "def e_xor_range(a, b, result, low, high):\n",
    "    result[low:high] = [x ^ y for x, y in zip(a[low:high], b[low:high])]\n",
    "\n",
    "def e_nand_range(a, b, result, low, high):\n",
    "    result[low:high] = [~(x & y) & 1 for x, y in zip(a[low:high], b[low:high])]\n",
    "\n",
    "def e_nor_range(a, b, result, low, high):\n",
    "    result[low:high] = [~(x | y) & 1 for x, y in zip(a[low:high], b[low:high])]\n",
    "\n",
    "def e_xnor_range(a, b, result, low, high):\n",
    "    result[low:high] = [~(x ^ y) & 1 for x, y in zip(a[low:high], b[low:high])]\n",
    "\n",
    "def e_not_range(a, result, low, high):\n",
    "    result[low:high] = [~x & 1 for x in a[low:high]]  # Ignores b\n"
   ],
   "id": "84b5a1635d85eb52",
   "outputs": [],
   "execution_count": 16
  },
  {
   "metadata": {
    "ExecuteTime": {
     "end_time": "2025-08-29T22:07:02.692111Z",
     "start_time": "2025-08-29T22:07:02.688475Z"
    }
   },
   "cell_type": "code",
   "source": [
    "def int_to_bits(signed_int, bit_length=32):\n",
    "    \"\"\"\n",
    "    Convert a signed integer to an array of bits with LSB (sign bit) at index 0.\n",
    "    Uses two's complement representation.\n",
    "    \"\"\"\n",
    "    # Handle negative numbers using two's complement\n",
    "    if signed_int < 0:\n",
    "        signed_int = (1 << bit_length) + signed_int\n",
    "    # Convert to binary and remove '0b' prefix\n",
    "    binary = bin(signed_int)[2:].zfill(bit_length)\n",
    "    # Return bits as list with LSB (sign bit) at index 0\n",
    "    return [int(bit) for bit in binary[::-1]]\n",
    "\n",
    "def bits_to_int(bits):\n",
    "    \"\"\"\n",
    "    Convert an array of bits with LSB (sign bit) at index 0 back to a signed integer.\n",
    "    Assumes two's complement representation.\n",
    "    \"\"\"\n",
    "    # Reverse bits to have MSB at highest index\n",
    "    binary = ''.join(str(bit) for bit in bits[::-1])\n",
    "    # Convert binary string to integer\n",
    "    result = int(binary, 2)\n",
    "    # Handle negative numbers (if sign bit is 1)\n",
    "    bit_length = len(bits)\n",
    "    if bits[bit_length-1] == 1:  # Sign bit is 1\n",
    "        result -= (1 << bit_length)\n",
    "    return result"
   ],
   "id": "7ad0127258fac3e0",
   "outputs": [],
   "execution_count": 109
  },
  {
   "metadata": {
    "ExecuteTime": {
     "end_time": "2025-08-29T22:07:03.124364Z",
     "start_time": "2025-08-29T22:07:03.120777Z"
    }
   },
   "cell_type": "code",
   "source": [
    "def add_supplement(a, b, size):\n",
    "    \"\"\"\n",
    "    Adds two bit lists a and b (using only the first 'size' bits of a if longer),\n",
    "    returns the result list of length 'size' (mod 2^size, discarding overflow).\n",
    "    \"\"\"\n",
    "    if size == 0:\n",
    "        return []\n",
    "    carry = [0] * (size + 1)\n",
    "    temp = [0] * size\n",
    "    for i in range(size):\n",
    "        temp[i] = a[i] ^ b[i]\n",
    "    for i in range(size):\n",
    "        gen = a[i] & b[i]\n",
    "        carry[i + 1] = gen | (temp[i] & carry[i])\n",
    "    result = [0] * size\n",
    "    for i in range(size):\n",
    "        result[i] = temp[i] ^ carry[i]\n",
    "    return result"
   ],
   "id": "fbc121e30a2defb3",
   "outputs": [],
   "execution_count": 110
  },
  {
   "metadata": {
    "ExecuteTime": {
     "end_time": "2025-08-29T22:07:03.575496Z",
     "start_time": "2025-08-29T22:07:03.568238Z"
    }
   },
   "cell_type": "code",
   "source": [
    "def multiplier(a, b, result):\n",
    "    \"\"\"\n",
    "    Computes the bit-wise multiplication of a and b (lists of bits, LSB at index 0),\n",
    "    stores the low len(a) bits of the product in result (handles both unsigned and signed via modular arithmetic).\n",
    "    Assumes len(a) == len(b) == len(result).\n",
    "    \"\"\"\n",
    "    size = len(a)\n",
    "    tmp_array = [0] * size\n",
    "    sum_ = [0] * size\n",
    "    temp_sum = [0] * size\n",
    "    for i in range(size):\n",
    "        # Reset tmp_array low bits (higher bits unused)\n",
    "        for j in range(size - i):\n",
    "            tmp_array[j] = a[i] & b[j]\n",
    "        temp_sum[i:] = add_supplement(tmp_array, sum_[i:], size - i)\n",
    "        sum_[:] = temp_sum[:]\n",
    "    result[:] = sum_[:]"
   ],
   "id": "bb1dfb48946291a4",
   "outputs": [],
   "execution_count": 111
  },
  {
   "metadata": {
    "ExecuteTime": {
     "end_time": "2025-08-29T22:07:30.161627Z",
     "start_time": "2025-08-29T22:07:30.158216Z"
    }
   },
   "cell_type": "code",
   "source": [
    "a = int_to_bits(10,  bit_length=8)\n",
    "b = int_to_bits(-10, bit_length=8)\n",
    "print(a[::-1])\n",
    "print(b[::-1])\n",
    "res = [0] * 8\n",
    "multiplier(a, b, res)\n",
    "print(res[::-1])\n",
    "print(bits_to_int(res))"
   ],
   "id": "103ca428aa8abfc5",
   "outputs": [
    {
     "name": "stdout",
     "output_type": "stream",
     "text": [
      "[0, 0, 0, 0, 1, 0, 1, 0]\n",
      "[1, 1, 1, 1, 0, 1, 1, 0]\n",
      "[1, 0, 0, 1, 1, 1, 0, 0]\n",
      "-100\n"
     ]
    }
   ],
   "execution_count": 115
  },
  {
   "metadata": {},
   "cell_type": "code",
   "outputs": [],
   "execution_count": null,
   "source": "",
   "id": "e1e030cc9c2247c4"
  }
 ],
 "metadata": {
  "kernelspec": {
   "display_name": "Python 3",
   "language": "python",
   "name": "python3"
  },
  "language_info": {
   "codemirror_mode": {
    "name": "ipython",
    "version": 2
   },
   "file_extension": ".py",
   "mimetype": "text/x-python",
   "name": "python",
   "nbconvert_exporter": "python",
   "pygments_lexer": "ipython2",
   "version": "2.7.6"
  }
 },
 "nbformat": 4,
 "nbformat_minor": 5
}
